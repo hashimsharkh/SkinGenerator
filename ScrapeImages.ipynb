{
  "nbformat": 4,
  "nbformat_minor": 0,
  "metadata": {
    "colab": {
      "name": "ScrapeImages.ipynb",
      "version": "0.3.2",
      "provenance": [],
      "collapsed_sections": [],
      "include_colab_link": true
    },
    "kernelspec": {
      "name": "python3",
      "display_name": "Python 3"
    },
    "accelerator": "GPU"
  },
  "cells": [
    {
      "cell_type": "markdown",
      "metadata": {
        "id": "view-in-github",
        "colab_type": "text"
      },
      "source": [
        "<a href=\"https://colab.research.google.com/github/hashimsharkh/SkinGenerator/blob/master/ScrapeImages.ipynb\" target=\"_parent\"><img src=\"https://colab.research.google.com/assets/colab-badge.svg\" alt=\"Open In Colab\"/></a>"
      ]
    },
    {
      "cell_type": "code",
      "metadata": {
        "id": "ClqbdM-j6XWV",
        "colab_type": "code",
        "outputId": "457caed3-4d6e-40e4-aa99-d3e08368b68a",
        "colab": {
          "base_uri": "https://localhost:8080/",
          "height": 104
        }
      },
      "source": [
        "from google.colab import drive\n",
        "drive.mount('/content/drive')"
      ],
      "execution_count": 0,
      "outputs": [
        {
          "output_type": "stream",
          "text": [
            "Drive already mounted at /content/drive; to attempt to forcibly remount, call drive.mount(\"/content/drive\", force_remount=True).\n"
          ],
          "name": "stdout"
        }
      ]
    },
    {
      "cell_type": "code",
      "metadata": {
        "id": "EhPmagD-Dyfc",
        "colab_type": "code",
        "colab": {}
      },
      "source": [
        "#Import os to change directories to imagegenerator\n",
        "import os \n",
        "os.chdir(\"drive/My Drive/ImageGenerator\")"
      ],
      "execution_count": 0,
      "outputs": []
    },
    {
      "cell_type": "code",
      "metadata": {
        "id": "YeG1VKZBCHwX",
        "colab_type": "code",
        "colab": {}
      },
      "source": [
        "#Importing libraries required to scrape the images from csgostash.com\n",
        "import requests\n",
        "import urllib\n",
        "import time\n",
        "from bs4 import BeautifulSoup"
      ],
      "execution_count": 0,
      "outputs": []
    },
    {
      "cell_type": "code",
      "metadata": {
        "id": "D2JMAUvRA1Cr",
        "colab_type": "code",
        "colab": {}
      },
      "source": [
        "def download_images(url,knife):\n",
        "  '''\n",
        "  download_images is a function which will extract pictures of the knives in csgo\n",
        "  url is the list of url which the images will be extracted from\n",
        "  images of 'knife' will be downloaded\n",
        "  '''\n",
        "  \n",
        "  page = requests.get(url)\n",
        "  \n",
        "  #Use beautifulsoup to extract the image urls\n",
        "  soup = BeautifulSoup(page.content, 'html.parser') \n",
        "  \n",
        "  #Pull all image labels from the website with instances of img_alt\n",
        "  for img in soup.find_all('img', alt = True):\n",
        "    #Find the url and labels of the knives\n",
        "    #Make sure that csgostash download urls are not copied\n",
        "    if knife in img['alt'] and not('csgostash' in img['src']) :\n",
        "      #Download the images with the correct labels\n",
        "      urllib.request.urlretrieve(img['src'],'{}.png'.format(img['alt']))"
      ],
      "execution_count": 0,
      "outputs": []
    },
    {
      "cell_type": "code",
      "metadata": {
        "id": "Ni5lTBGZ5UN_",
        "colab_type": "code",
        "colab": {}
      },
      "source": [
        "#List of all the knives we will get the pictures of\n",
        "#The names of the knives included in the url\n",
        "csgo_knives_url = ['Navaja+Knife','Stiletto+Knife','Talon+Knife','Ursus+Knife','Bayonet','Bowie+Knife','Butterfly+Knife','Falchion+Knife', 'Flip+Knife', 'Gut+Knife','Huntsman+Knife','Karambit','M9+Bayonet', 'Shadow+Daggers']\n",
        "\n",
        "#The name of the knives\n",
        "csgo_knives = [knife.split('+')[0] for knife in csgo_knives_url]\n",
        "\n",
        "#This part is not needed as these two knives have unique starting names anyways\n",
        "csgo_knives[-1] += ' Daggers'\n",
        "csgo_knives[-2] += ' Bayonet'"
      ],
      "execution_count": 0,
      "outputs": []
    },
    {
      "cell_type": "code",
      "metadata": {
        "id": "xVI7MEnyFrdh",
        "colab_type": "code",
        "outputId": "ee1e57cb-a9b9-4ddd-acff-200d7c3e6a03",
        "colab": {
          "base_uri": "https://localhost:8080/",
          "height": 165
        }
      },
      "source": [
        "#Make a new folder with the pictures of the knives\n",
        "!mkdir CSGO_Knives\n",
        "\n",
        "#Change working directory to CSGO_Knives\n",
        "os.chdir(\"CSGO_Knives\")"
      ],
      "execution_count": 0,
      "outputs": [
        {
          "output_type": "stream",
          "text": [
            "mkdir: cannot create directory ‘CSGO_Knives’: File exists\n"
          ],
          "name": "stdout"
        }
      ]
    },
    {
      "cell_type": "code",
      "metadata": {
        "id": "0jBWnm1tDNyN",
        "colab_type": "code",
        "colab": {}
      },
      "source": [
        "\n",
        "#Get the links and labels of the knives\n",
        "for i in range(len(csgo_knives)):\n",
        "  #URL of the website I will scrape the image urls from to download\n",
        "  csgo_stash_url = 'https://csgostash.com/weapon/{}'.format(csgo_knives_url[i])\n",
        "\n",
        "  #Call download_images\n",
        "  download_images(csgo_stash_url,csgo_knives[i])\n"
      ],
      "execution_count": 0,
      "outputs": []
    }
  ]
}